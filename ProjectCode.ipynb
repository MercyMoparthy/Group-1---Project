{
 "cells": [
  {
   "cell_type": "code",
   "execution_count": 50,
   "metadata": {},
   "outputs": [],
   "source": [
    "# Import necessary libraries\n",
    "import pandas as pd\n",
    "import numpy as np\n",
    "from sklearn.model_selection import train_test_split\n",
    "from sklearn.preprocessing import LabelEncoder\n",
    "from sklearn.linear_model import LinearRegression\n",
    "from sklearn.ensemble import RandomForestRegressor, GradientBoostingRegressor\n",
    "from sklearn.metrics import r2_score\n",
    "from joblib import Parallel, delayed\n",
    "from sklearn.ensemble import BaggingRegressor\n",
    "from sklearn.tree import DecisionTreeRegressor"
   ]
  },
  {
   "cell_type": "code",
   "execution_count": 51,
   "metadata": {},
   "outputs": [
    {
     "data": {
      "text/html": [
       "<div>\n",
       "<style scoped>\n",
       "    .dataframe tbody tr th:only-of-type {\n",
       "        vertical-align: middle;\n",
       "    }\n",
       "\n",
       "    .dataframe tbody tr th {\n",
       "        vertical-align: top;\n",
       "    }\n",
       "\n",
       "    .dataframe thead th {\n",
       "        text-align: right;\n",
       "    }\n",
       "</style>\n",
       "<table border=\"1\" class=\"dataframe\">\n",
       "  <thead>\n",
       "    <tr style=\"text-align: right;\">\n",
       "      <th></th>\n",
       "      <th>d</th>\n",
       "      <th>store_ID</th>\n",
       "      <th>day_of_week</th>\n",
       "      <th>date</th>\n",
       "      <th>nb_customers_on_day</th>\n",
       "      <th>open</th>\n",
       "      <th>promotion</th>\n",
       "      <th>state_holiday</th>\n",
       "      <th>school_holiday</th>\n",
       "      <th>sales</th>\n",
       "    </tr>\n",
       "  </thead>\n",
       "  <tbody>\n",
       "    <tr>\n",
       "      <th>0</th>\n",
       "      <td>425390</td>\n",
       "      <td>366</td>\n",
       "      <td>4</td>\n",
       "      <td>2013-04-18</td>\n",
       "      <td>517</td>\n",
       "      <td>1</td>\n",
       "      <td>0</td>\n",
       "      <td>0</td>\n",
       "      <td>0</td>\n",
       "      <td>4422</td>\n",
       "    </tr>\n",
       "    <tr>\n",
       "      <th>1</th>\n",
       "      <td>291687</td>\n",
       "      <td>394</td>\n",
       "      <td>6</td>\n",
       "      <td>2015-04-11</td>\n",
       "      <td>694</td>\n",
       "      <td>1</td>\n",
       "      <td>0</td>\n",
       "      <td>0</td>\n",
       "      <td>0</td>\n",
       "      <td>8297</td>\n",
       "    </tr>\n",
       "    <tr>\n",
       "      <th>2</th>\n",
       "      <td>411278</td>\n",
       "      <td>807</td>\n",
       "      <td>4</td>\n",
       "      <td>2013-08-29</td>\n",
       "      <td>970</td>\n",
       "      <td>1</td>\n",
       "      <td>1</td>\n",
       "      <td>0</td>\n",
       "      <td>0</td>\n",
       "      <td>9729</td>\n",
       "    </tr>\n",
       "    <tr>\n",
       "      <th>3</th>\n",
       "      <td>664714</td>\n",
       "      <td>802</td>\n",
       "      <td>2</td>\n",
       "      <td>2013-05-28</td>\n",
       "      <td>473</td>\n",
       "      <td>1</td>\n",
       "      <td>1</td>\n",
       "      <td>0</td>\n",
       "      <td>0</td>\n",
       "      <td>6513</td>\n",
       "    </tr>\n",
       "    <tr>\n",
       "      <th>4</th>\n",
       "      <td>540835</td>\n",
       "      <td>726</td>\n",
       "      <td>4</td>\n",
       "      <td>2013-10-10</td>\n",
       "      <td>1068</td>\n",
       "      <td>1</td>\n",
       "      <td>1</td>\n",
       "      <td>0</td>\n",
       "      <td>0</td>\n",
       "      <td>10882</td>\n",
       "    </tr>\n",
       "  </tbody>\n",
       "</table>\n",
       "</div>"
      ],
      "text/plain": [
       "        d  store_ID  day_of_week        date  nb_customers_on_day  open  \\\n",
       "0  425390       366            4  2013-04-18                  517     1   \n",
       "1  291687       394            6  2015-04-11                  694     1   \n",
       "2  411278       807            4  2013-08-29                  970     1   \n",
       "3  664714       802            2  2013-05-28                  473     1   \n",
       "4  540835       726            4  2013-10-10                 1068     1   \n",
       "\n",
       "   promotion state_holiday  school_holiday  sales  \n",
       "0          0             0               0   4422  \n",
       "1          0             0               0   8297  \n",
       "2          1             0               0   9729  \n",
       "3          1             0               0   6513  \n",
       "4          1             0               0  10882  "
      ]
     },
     "execution_count": 51,
     "metadata": {},
     "output_type": "execute_result"
    }
   ],
   "source": [
    "#read the dataset and display the first few rows\n",
    "df = pd.read_csv('sales.csv')\n",
    "df.head()"
   ]
  },
  {
   "cell_type": "code",
   "execution_count": 52,
   "metadata": {},
   "outputs": [
    {
     "name": "stdout",
     "output_type": "stream",
     "text": [
      "d                      0\n",
      "store_ID               0\n",
      "day_of_week            0\n",
      "date                   0\n",
      "nb_customers_on_day    0\n",
      "open                   0\n",
      "promotion              0\n",
      "state_holiday          0\n",
      "school_holiday         0\n",
      "sales                  0\n",
      "dtype: int64\n"
     ]
    }
   ],
   "source": [
    "#missing values\n",
    "print(df.isnull().sum())"
   ]
  },
  {
   "cell_type": "code",
   "execution_count": 53,
   "metadata": {},
   "outputs": [
    {
     "name": "stdout",
     "output_type": "stream",
     "text": [
      "d                       int64\n",
      "store_ID                int64\n",
      "day_of_week             int64\n",
      "date                   object\n",
      "nb_customers_on_day     int64\n",
      "open                    int64\n",
      "promotion               int64\n",
      "state_holiday          object\n",
      "school_holiday          int64\n",
      "sales                   int64\n",
      "dtype: object\n"
     ]
    }
   ],
   "source": [
    "#printing data types\n",
    "print(df.dtypes)"
   ]
  },
  {
   "cell_type": "code",
   "execution_count": 54,
   "metadata": {},
   "outputs": [],
   "source": [
    "#dropping object type columns \n",
    "#update with a check\n",
    "df = df.drop(columns=[col for col in [\"d\", \"date\"] if col in df.columns])"
   ]
  },
  {
   "cell_type": "code",
   "execution_count": 55,
   "metadata": {},
   "outputs": [
    {
     "name": "stdout",
     "output_type": "stream",
     "text": [
      "store_ID               int64\n",
      "day_of_week            int64\n",
      "nb_customers_on_day    int64\n",
      "open                   int64\n",
      "promotion              int64\n",
      "state_holiday          int64\n",
      "school_holiday         int64\n",
      "sales                  int64\n",
      "dtype: object\n"
     ]
    }
   ],
   "source": [
    "# Transforming categorical variable into numerical\n",
    "df['state_holiday'] = LabelEncoder().fit_transform(df['state_holiday'])\n",
    "print(df.dtypes)"
   ]
  },
  {
   "cell_type": "code",
   "execution_count": 56,
   "metadata": {},
   "outputs": [],
   "source": [
    "models = {\n",
    "    \"Linear Regression\": LinearRegression(),\n",
    "    \"Random Forest\": RandomForestRegressor(n_estimators=30, max_depth=4, n_jobs=-1),\n",
    "    \"Gradient Boosting\": GradientBoostingRegressor(n_estimators=100, random_state=42)\n",
    "}\n",
    "\n",
    "# Step 2: Function to train and evaluate a model\n",
    "def train_and_evaluate(name, model, X_train, y_train, X_test, y_test):\n",
    "    model.fit(X_train, y_train)\n",
    "    predictions = model.predict(X_test)\n",
    "    score = r2_score(y_test, predictions)\n",
    "    return name, score, predictions, model  # <-- Added model to return, so later we have it to predict\n",
    "\n",
    "# Step 3: Run all models in parallel\n",
    "def run_models_parallel(X_train, y_train, X_test, y_test):\n",
    "    results = Parallel(n_jobs=3)(\n",
    "        delayed(train_and_evaluate)(name, model, X_train, y_train, X_test, y_test)\n",
    "        for name, model in models.items()\n",
    "    )\n",
    "    return results"
   ]
  },
  {
   "cell_type": "code",
   "execution_count": 57,
   "metadata": {},
   "outputs": [
    {
     "name": "stdout",
     "output_type": "stream",
     "text": [
      "Linear Regression R2 Score: 0.8507\n",
      "Random Forest R2 Score: 0.8427\n",
      "Gradient Boosting R2 Score: 0.8868\n"
     ]
    }
   ],
   "source": [
    "#Bagging Technique\n",
    "# Run the models and get results\n",
    "results = run_models_parallel(X_train, y_train, X_test, y_test)\n",
    "\n",
    "# Step 5: Print R2 scores\n",
    "for name, score, _, _ in results: #here I had to include 4 instead of 3\n",
    "    print(f\"{name} R2 Score: {score:.4f}\")\n"
   ]
  },
  {
   "cell_type": "code",
   "execution_count": 58,
   "metadata": {},
   "outputs": [],
   "source": [
    "# Step 6: Create bagged predictions (average of predictions)\n",
    "all_preds = np.array([preds for _, _, preds, _ in results]) #here I had to include 4 instead of 3\n",
    "bagged_preds = np.mean(all_preds, axis=0)"
   ]
  },
  {
   "cell_type": "code",
   "execution_count": 59,
   "metadata": {},
   "outputs": [
    {
     "name": "stdout",
     "output_type": "stream",
     "text": [
      "        Predicted_Sales_Bagged\n",
      "360263             9630.241994\n",
      "226238              -44.728537\n",
      "94660              4696.128616\n",
      "322601             4910.190749\n",
      "450235             5814.751455\n",
      "R2 Score for Bagged: 0.8695098047555108\n"
     ]
    }
   ],
   "source": [
    "# Step 7: Add bagged predictions as a new column in test data\n",
    "X_test_with_preds = X_test.copy()\n",
    "X_test_with_preds['Predicted_Sales_Bagged'] = bagged_preds\n",
    "bagged_r2 = r2_score(y_test, bagged_preds)\n",
    "\n",
    "# Optional: Show some results\n",
    "print(X_test_with_preds[['Predicted_Sales_Bagged']].head())\n",
    "print('R2 Score for Bagged:', bagged_r2)"
   ]
  },
  {
   "cell_type": "code",
   "execution_count": 506,
   "metadata": {},
   "outputs": [
    {
     "name": "stderr",
     "output_type": "stream",
     "text": [
      "/var/folders/m8/k1bt27ks3h3cd9920twfctb40000gn/T/ipykernel_32238/4003619317.py:7: FutureWarning: A value is trying to be set on a copy of a DataFrame or Series through chained assignment using an inplace method.\n",
      "The behavior will change in pandas 3.0. This inplace method will never work because the intermediate object on which we are setting values always behaves as a copy.\n",
      "\n",
      "For example, when doing 'df[col].method(value, inplace=True)', try using 'df.method({col: value}, inplace=True)' or df[col] = df[col].method(value) instead, to perform the operation inplace on the original object.\n",
      "\n",
      "\n",
      "  df[col].fillna(median_val, inplace=True)\n"
     ]
    }
   ],
   "source": [
    "#identify categorical columns (if any remain after drop)\n",
    "cat_cols = df.select_dtypes(include=['object']).columns.tolist()\n",
    "#fill missing numerical values with median\n",
    "num_cols = df.select_dtypes(include=['int64', 'float64']).columns.tolist()\n",
    "for col in num_cols:\n",
    "    median_val = df[col].median()\n",
    "    df[col].fillna(median_val, inplace=True)"
   ]
  },
  {
   "cell_type": "code",
   "execution_count": 507,
   "metadata": {},
   "outputs": [
    {
     "name": "stdout",
     "output_type": "stream",
     "text": [
      "         sales\n",
      "0    98.083336\n",
      "1    78.622962\n",
      "2  6879.770648\n",
      "3  7107.528079\n",
      "4  6102.075624\n"
     ]
    }
   ],
   "source": [
    "# Load real-life data\n",
    "df_real = pd.read_csv(\"REAL_DATA.csv\")\n",
    "\n",
    "#make sure 'sales' is not in the features to avoid unseen columns)\n",
    "if 'sales' in df_real_processed.columns:\n",
    "    df_real_features = df_real_processed.drop(columns=['sales'])\n",
    "else:\n",
    "    df_real_features = df_real_processed\n",
    "\n",
    "# Predict sales on real-life data (correct dataframe!)\n",
    "sales_pred = best_model.predict(df_real_features)\n",
    "\n",
    "# Add predictions to dataframe\n",
    "df_real_processed['sales'] = sales_pred\n",
    "\n",
    "# Show predictions\n",
    "print(df_real_processed[['sales']].head())"
   ]
  },
  {
   "cell_type": "code",
   "execution_count": 508,
   "metadata": {},
   "outputs": [],
   "source": [
    "# readind real data\n",
    "new_df = pd.read_csv('REAL_DATA.csv').copy()"
   ]
  },
  {
   "cell_type": "code",
   "execution_count": null,
   "metadata": {},
   "outputs": [
    {
     "name": "stdout",
     "output_type": "stream",
     "text": [
      "index                   int64\n",
      "store_ID                int64\n",
      "day_of_week             int64\n",
      "date                   object\n",
      "nb_customers_on_day     int64\n",
      "open                    int64\n",
      "promotion               int64\n",
      "state_holiday          object\n",
      "school_holiday          int64\n",
      "dtype: object\n"
     ]
    }
   ],
   "source": [
    "#getting real data data types\n",
    "print(new_df.dtypes)"
   ]
  },
  {
   "cell_type": "code",
   "execution_count": null,
   "metadata": {},
   "outputs": [
    {
     "name": "stdout",
     "output_type": "stream",
     "text": [
      "index                  0\n",
      "store_ID               0\n",
      "day_of_week            0\n",
      "date                   0\n",
      "nb_customers_on_day    0\n",
      "open                   0\n",
      "promotion              0\n",
      "state_holiday          0\n",
      "school_holiday         0\n",
      "dtype: int64\n"
     ]
    }
   ],
   "source": [
    "#checking missing values\n",
    "new_missing_data = new_df.isnull().sum()\n",
    "print(new_missing_data)"
   ]
  },
  {
   "cell_type": "code",
   "execution_count": 63,
   "metadata": {},
   "outputs": [
    {
     "name": "stdout",
     "output_type": "stream",
     "text": [
      "R² Score on new data: 1.0000\n",
      "         sales\n",
      "0    26.125596\n",
      "1    38.384082\n",
      "2  6708.813381\n",
      "3  6987.469395\n",
      "4  6290.938492\n"
     ]
    }
   ],
   "source": [
    "# Encode categorical features\n",
    "new_df['state_holiday'] = LabelEncoder().fit_transform(new_df['state_holiday'])\n",
    "new_df['date'] = LabelEncoder().fit_transform(new_df['date'])\n",
    "\n",
    "# Prepare features for prediction (drop columns not used in training)\n",
    "features = [new_data for new_data in X.columns if new_data in new_df.columns]\n",
    "X_new = new_df[features]\n",
    "\n",
    "# Fit the models on the original training data if not already fitted\n",
    "for name, model in models.items():\n",
    "    if not hasattr(model, \"coef_\") and not hasattr(model, \"feature_importances_\"):\n",
    "        model.fit(X_train, y_train)\n",
    "\n",
    "# Predict with each trained model from the models dictionary\n",
    "preds_linear = models[\"Linear Regression\"].predict(X_new)\n",
    "preds_rf = models[\"Random Forest\"].predict(X_new)\n",
    "preds_gb = models[\"Gradient Boosting\"].predict(X_new)\n",
    "\n",
    "# Average predictions — bagging\n",
    "bagged_preds_new = np.mean([preds_linear, preds_rf, preds_gb], axis=0)\n",
    "# Add predictions to DataFrame\n",
    "new_df['sales'] = bagged_preds_new\n",
    "new_df.to_csv(\"G1.csv\", index=False)\n",
    "\n",
    "# Optional: If your new data has actual sales, evaluate R²\n",
    "if 'sales' in new_df.columns:\n",
    "    r2_new = r2_score(new_df['sales'], bagged_preds_new)\n",
    "    print(f\"R² Score on new data: {r2_new:.4f}\")\n",
    "\n",
    "# Show sample output\n",
    "print(new_df[['sales']].head())\n"
   ]
  },
  {
   "cell_type": "code",
   "execution_count": 64,
   "metadata": {},
   "outputs": [
    {
     "data": {
      "text/html": [
       "<div>\n",
       "<style scoped>\n",
       "    .dataframe tbody tr th:only-of-type {\n",
       "        vertical-align: middle;\n",
       "    }\n",
       "\n",
       "    .dataframe tbody tr th {\n",
       "        vertical-align: top;\n",
       "    }\n",
       "\n",
       "    .dataframe thead th {\n",
       "        text-align: right;\n",
       "    }\n",
       "</style>\n",
       "<table border=\"1\" class=\"dataframe\">\n",
       "  <thead>\n",
       "    <tr style=\"text-align: right;\">\n",
       "      <th></th>\n",
       "      <th>index</th>\n",
       "      <th>store_ID</th>\n",
       "      <th>day_of_week</th>\n",
       "      <th>date</th>\n",
       "      <th>nb_customers_on_day</th>\n",
       "      <th>open</th>\n",
       "      <th>promotion</th>\n",
       "      <th>state_holiday</th>\n",
       "      <th>school_holiday</th>\n",
       "      <th>sales</th>\n",
       "    </tr>\n",
       "  </thead>\n",
       "  <tbody>\n",
       "    <tr>\n",
       "      <th>0</th>\n",
       "      <td>272371</td>\n",
       "      <td>415</td>\n",
       "      <td>7</td>\n",
       "      <td>8</td>\n",
       "      <td>0</td>\n",
       "      <td>0</td>\n",
       "      <td>0</td>\n",
       "      <td>0</td>\n",
       "      <td>0</td>\n",
       "      <td>26.125596</td>\n",
       "    </tr>\n",
       "    <tr>\n",
       "      <th>1</th>\n",
       "      <td>558468</td>\n",
       "      <td>27</td>\n",
       "      <td>7</td>\n",
       "      <td>894</td>\n",
       "      <td>0</td>\n",
       "      <td>0</td>\n",
       "      <td>0</td>\n",
       "      <td>0</td>\n",
       "      <td>0</td>\n",
       "      <td>38.384082</td>\n",
       "    </tr>\n",
       "    <tr>\n",
       "      <th>2</th>\n",
       "      <td>76950</td>\n",
       "      <td>404</td>\n",
       "      <td>3</td>\n",
       "      <td>565</td>\n",
       "      <td>657</td>\n",
       "      <td>1</td>\n",
       "      <td>1</td>\n",
       "      <td>0</td>\n",
       "      <td>0</td>\n",
       "      <td>6708.813381</td>\n",
       "    </tr>\n",
       "    <tr>\n",
       "      <th>3</th>\n",
       "      <td>77556</td>\n",
       "      <td>683</td>\n",
       "      <td>2</td>\n",
       "      <td>868</td>\n",
       "      <td>862</td>\n",
       "      <td>1</td>\n",
       "      <td>0</td>\n",
       "      <td>0</td>\n",
       "      <td>0</td>\n",
       "      <td>6987.469395</td>\n",
       "    </tr>\n",
       "    <tr>\n",
       "      <th>4</th>\n",
       "      <td>456344</td>\n",
       "      <td>920</td>\n",
       "      <td>3</td>\n",
       "      <td>565</td>\n",
       "      <td>591</td>\n",
       "      <td>1</td>\n",
       "      <td>1</td>\n",
       "      <td>0</td>\n",
       "      <td>0</td>\n",
       "      <td>6290.938492</td>\n",
       "    </tr>\n",
       "    <tr>\n",
       "      <th>...</th>\n",
       "      <td>...</td>\n",
       "      <td>...</td>\n",
       "      <td>...</td>\n",
       "      <td>...</td>\n",
       "      <td>...</td>\n",
       "      <td>...</td>\n",
       "      <td>...</td>\n",
       "      <td>...</td>\n",
       "      <td>...</td>\n",
       "      <td>...</td>\n",
       "    </tr>\n",
       "    <tr>\n",
       "      <th>71200</th>\n",
       "      <td>59062</td>\n",
       "      <td>441</td>\n",
       "      <td>7</td>\n",
       "      <td>801</td>\n",
       "      <td>0</td>\n",
       "      <td>0</td>\n",
       "      <td>0</td>\n",
       "      <td>0</td>\n",
       "      <td>0</td>\n",
       "      <td>0.618313</td>\n",
       "    </tr>\n",
       "    <tr>\n",
       "      <th>71201</th>\n",
       "      <td>687449</td>\n",
       "      <td>377</td>\n",
       "      <td>7</td>\n",
       "      <td>548</td>\n",
       "      <td>0</td>\n",
       "      <td>0</td>\n",
       "      <td>0</td>\n",
       "      <td>0</td>\n",
       "      <td>0</td>\n",
       "      <td>27.961473</td>\n",
       "    </tr>\n",
       "    <tr>\n",
       "      <th>71202</th>\n",
       "      <td>207393</td>\n",
       "      <td>15</td>\n",
       "      <td>3</td>\n",
       "      <td>326</td>\n",
       "      <td>648</td>\n",
       "      <td>1</td>\n",
       "      <td>0</td>\n",
       "      <td>0</td>\n",
       "      <td>0</td>\n",
       "      <td>5522.085995</td>\n",
       "    </tr>\n",
       "    <tr>\n",
       "      <th>71203</th>\n",
       "      <td>233378</td>\n",
       "      <td>950</td>\n",
       "      <td>2</td>\n",
       "      <td>691</td>\n",
       "      <td>626</td>\n",
       "      <td>1</td>\n",
       "      <td>1</td>\n",
       "      <td>0</td>\n",
       "      <td>0</td>\n",
       "      <td>6534.898629</td>\n",
       "    </tr>\n",
       "    <tr>\n",
       "      <th>71204</th>\n",
       "      <td>85695</td>\n",
       "      <td>932</td>\n",
       "      <td>4</td>\n",
       "      <td>647</td>\n",
       "      <td>828</td>\n",
       "      <td>1</td>\n",
       "      <td>1</td>\n",
       "      <td>0</td>\n",
       "      <td>0</td>\n",
       "      <td>8034.040266</td>\n",
       "    </tr>\n",
       "  </tbody>\n",
       "</table>\n",
       "<p>71205 rows × 10 columns</p>\n",
       "</div>"
      ],
      "text/plain": [
       "        index  store_ID  day_of_week  date  nb_customers_on_day  open  \\\n",
       "0      272371       415            7     8                    0     0   \n",
       "1      558468        27            7   894                    0     0   \n",
       "2       76950       404            3   565                  657     1   \n",
       "3       77556       683            2   868                  862     1   \n",
       "4      456344       920            3   565                  591     1   \n",
       "...       ...       ...          ...   ...                  ...   ...   \n",
       "71200   59062       441            7   801                    0     0   \n",
       "71201  687449       377            7   548                    0     0   \n",
       "71202  207393        15            3   326                  648     1   \n",
       "71203  233378       950            2   691                  626     1   \n",
       "71204   85695       932            4   647                  828     1   \n",
       "\n",
       "       promotion  state_holiday  school_holiday        sales  \n",
       "0              0              0               0    26.125596  \n",
       "1              0              0               0    38.384082  \n",
       "2              1              0               0  6708.813381  \n",
       "3              0              0               0  6987.469395  \n",
       "4              1              0               0  6290.938492  \n",
       "...          ...            ...             ...          ...  \n",
       "71200          0              0               0     0.618313  \n",
       "71201          0              0               0    27.961473  \n",
       "71202          0              0               0  5522.085995  \n",
       "71203          1              0               0  6534.898629  \n",
       "71204          1              0               0  8034.040266  \n",
       "\n",
       "[71205 rows x 10 columns]"
      ]
     },
     "execution_count": 64,
     "metadata": {},
     "output_type": "execute_result"
    }
   ],
   "source": [
    "#verifying new file data\n",
    "updated_file = pd.read_csv('G1.csv')\n",
    "updated_file"
   ]
  },
  {
   "cell_type": "markdown",
   "metadata": {},
   "source": [
    "Observations:\n",
    "-\tTo run models parallelly we need to enable joblib library and import parallel\n",
    "-\tLabelEncoder() function is used to fit transformation of the columns from categorical variables to numerical\n",
    "-\tWhen we code 3 models one after another, they are running sequentially as we need to run parallelly, we need to define the models in one dictionary and runs the function works \n",
    "-\tWhile running multiple models we have observed below points.\n",
    "o\tWe cannot use Logistical Regression as this is used for classification tasks but not for regression tasks. So it didn’t work\n",
    "o\tWe try to run KNN method, but this method is too slow to run\n",
    "o\tWe tried running RandomForestRegression Method and GradientBoostingRegression Method which runs better but if we give print function it will run too slow. \n",
    "o\tHence segregated the print function to another cell after running the models\n",
    "-\tWhile creating bagged technique we found that we don’t need to use any specific functions like baggedregression to run the predictions. Np.mean will works to run bagged technique. \n",
    "o\tIn this step we have [preds for -,-, preds], in this -, - refers to the returned parameters from train_test_split model which are name, score, predictions. – is given if that parameter is not required for this conditions.\n",
    "o\tThis will help to exclude running these parameters details.\n",
    "-\tAs per mathematical calculation bagged prediction for all 3 models is 0.868\n",
    "-\tTo run the parallel code and effectively save and load python. Tried Joblib to run real data on the trained model however it seems bit complicated as we don’t have much Idea on it so we moved on with different code.\n",
    "-\tHasattr is used to check if an object has a specific attribute\n",
    "-\tIf we are running multiple datasets on same trained model, we don’t need to re write the code to call model and train_test_split instead we can use the syntax[“modelName”].predict() to predict the values\n",
    "-\tOverall we understand that we need more handson coding and we need to practice more 😊\n",
    "\n",
    "\n"
   ]
  }
 ],
 "metadata": {
  "kernelspec": {
   "display_name": "Python 3",
   "language": "python",
   "name": "python3"
  },
  "language_info": {
   "codemirror_mode": {
    "name": "ipython",
    "version": 3
   },
   "file_extension": ".py",
   "mimetype": "text/x-python",
   "name": "python",
   "nbconvert_exporter": "python",
   "pygments_lexer": "ipython3",
   "version": "3.13.3"
  }
 },
 "nbformat": 4,
 "nbformat_minor": 2
}
