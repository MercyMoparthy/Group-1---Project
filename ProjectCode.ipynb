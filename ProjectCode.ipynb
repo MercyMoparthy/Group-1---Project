{
 "cells": [
  {
   "cell_type": "code",
   "execution_count": 1,
   "metadata": {},
   "outputs": [],
   "source": [
    "# Import necessary libraries\n",
    "import pandas as pd\n",
    "import numpy as np\n",
    "from sklearn.model_selection import train_test_split\n",
    "from sklearn.preprocessing import LabelEncoder\n",
    "from sklearn.linear_model import LinearRegression\n",
    "from sklearn.ensemble import RandomForestRegressor, GradientBoostingRegressor\n",
    "from sklearn.metrics import r2_score\n",
    "from joblib import Parallel, delayed\n",
    "from sklearn.ensemble import BaggingRegressor\n",
    "from sklearn.tree import DecisionTreeRegressor"
   ]
  },
  {
   "cell_type": "code",
   "execution_count": 2,
   "metadata": {},
   "outputs": [
    {
     "data": {
      "text/html": [
       "<div>\n",
       "<style scoped>\n",
       "    .dataframe tbody tr th:only-of-type {\n",
       "        vertical-align: middle;\n",
       "    }\n",
       "\n",
       "    .dataframe tbody tr th {\n",
       "        vertical-align: top;\n",
       "    }\n",
       "\n",
       "    .dataframe thead th {\n",
       "        text-align: right;\n",
       "    }\n",
       "</style>\n",
       "<table border=\"1\" class=\"dataframe\">\n",
       "  <thead>\n",
       "    <tr style=\"text-align: right;\">\n",
       "      <th></th>\n",
       "      <th>d</th>\n",
       "      <th>store_ID</th>\n",
       "      <th>day_of_week</th>\n",
       "      <th>date</th>\n",
       "      <th>nb_customers_on_day</th>\n",
       "      <th>open</th>\n",
       "      <th>promotion</th>\n",
       "      <th>state_holiday</th>\n",
       "      <th>school_holiday</th>\n",
       "      <th>sales</th>\n",
       "    </tr>\n",
       "  </thead>\n",
       "  <tbody>\n",
       "    <tr>\n",
       "      <th>0</th>\n",
       "      <td>425390</td>\n",
       "      <td>366</td>\n",
       "      <td>4</td>\n",
       "      <td>2013-04-18</td>\n",
       "      <td>517</td>\n",
       "      <td>1</td>\n",
       "      <td>0</td>\n",
       "      <td>0</td>\n",
       "      <td>0</td>\n",
       "      <td>4422</td>\n",
       "    </tr>\n",
       "    <tr>\n",
       "      <th>1</th>\n",
       "      <td>291687</td>\n",
       "      <td>394</td>\n",
       "      <td>6</td>\n",
       "      <td>2015-04-11</td>\n",
       "      <td>694</td>\n",
       "      <td>1</td>\n",
       "      <td>0</td>\n",
       "      <td>0</td>\n",
       "      <td>0</td>\n",
       "      <td>8297</td>\n",
       "    </tr>\n",
       "    <tr>\n",
       "      <th>2</th>\n",
       "      <td>411278</td>\n",
       "      <td>807</td>\n",
       "      <td>4</td>\n",
       "      <td>2013-08-29</td>\n",
       "      <td>970</td>\n",
       "      <td>1</td>\n",
       "      <td>1</td>\n",
       "      <td>0</td>\n",
       "      <td>0</td>\n",
       "      <td>9729</td>\n",
       "    </tr>\n",
       "    <tr>\n",
       "      <th>3</th>\n",
       "      <td>664714</td>\n",
       "      <td>802</td>\n",
       "      <td>2</td>\n",
       "      <td>2013-05-28</td>\n",
       "      <td>473</td>\n",
       "      <td>1</td>\n",
       "      <td>1</td>\n",
       "      <td>0</td>\n",
       "      <td>0</td>\n",
       "      <td>6513</td>\n",
       "    </tr>\n",
       "    <tr>\n",
       "      <th>4</th>\n",
       "      <td>540835</td>\n",
       "      <td>726</td>\n",
       "      <td>4</td>\n",
       "      <td>2013-10-10</td>\n",
       "      <td>1068</td>\n",
       "      <td>1</td>\n",
       "      <td>1</td>\n",
       "      <td>0</td>\n",
       "      <td>0</td>\n",
       "      <td>10882</td>\n",
       "    </tr>\n",
       "  </tbody>\n",
       "</table>\n",
       "</div>"
      ],
      "text/plain": [
       "        d  store_ID  day_of_week        date  nb_customers_on_day  open  \\\n",
       "0  425390       366            4  2013-04-18                  517     1   \n",
       "1  291687       394            6  2015-04-11                  694     1   \n",
       "2  411278       807            4  2013-08-29                  970     1   \n",
       "3  664714       802            2  2013-05-28                  473     1   \n",
       "4  540835       726            4  2013-10-10                 1068     1   \n",
       "\n",
       "   promotion state_holiday  school_holiday  sales  \n",
       "0          0             0               0   4422  \n",
       "1          0             0               0   8297  \n",
       "2          1             0               0   9729  \n",
       "3          1             0               0   6513  \n",
       "4          1             0               0  10882  "
      ]
     },
     "execution_count": 2,
     "metadata": {},
     "output_type": "execute_result"
    }
   ],
   "source": [
    "#read the dataset and display the first few rows\n",
    "df = pd.read_csv('sales.csv')\n",
    "df.head()"
   ]
  },
  {
   "cell_type": "code",
   "execution_count": 3,
   "metadata": {},
   "outputs": [
    {
     "name": "stdout",
     "output_type": "stream",
     "text": [
      "d                      0\n",
      "store_ID               0\n",
      "day_of_week            0\n",
      "date                   0\n",
      "nb_customers_on_day    0\n",
      "open                   0\n",
      "promotion              0\n",
      "state_holiday          0\n",
      "school_holiday         0\n",
      "sales                  0\n",
      "dtype: int64\n"
     ]
    }
   ],
   "source": [
    "#missing values\n",
    "print(df.isnull().sum())"
   ]
  },
  {
   "cell_type": "code",
   "execution_count": 4,
   "metadata": {},
   "outputs": [
    {
     "name": "stdout",
     "output_type": "stream",
     "text": [
      "d                       int64\n",
      "store_ID                int64\n",
      "day_of_week             int64\n",
      "date                   object\n",
      "nb_customers_on_day     int64\n",
      "open                    int64\n",
      "promotion               int64\n",
      "state_holiday          object\n",
      "school_holiday          int64\n",
      "sales                   int64\n",
      "dtype: object\n"
     ]
    }
   ],
   "source": [
    "#printing data types\n",
    "print(df.dtypes)"
   ]
  },
  {
   "cell_type": "code",
   "execution_count": 5,
   "metadata": {},
   "outputs": [],
   "source": [
    "#dropping object type columns\n",
    "df = df.drop(columns=[\"d\", \"date\"])"
   ]
  },
  {
   "cell_type": "code",
   "execution_count": 6,
   "metadata": {},
   "outputs": [
    {
     "name": "stdout",
     "output_type": "stream",
     "text": [
      "store_ID               int64\n",
      "day_of_week            int64\n",
      "nb_customers_on_day    int64\n",
      "open                   int64\n",
      "promotion              int64\n",
      "state_holiday          int64\n",
      "school_holiday         int64\n",
      "sales                  int64\n",
      "dtype: object\n"
     ]
    }
   ],
   "source": [
    "# Transforming categorical variable into numerical\n",
    "df['state_holiday'] = LabelEncoder().fit_transform(df['state_holiday'])\n",
    "print(df.dtypes)"
   ]
  },
  {
   "cell_type": "code",
   "execution_count": 7,
   "metadata": {},
   "outputs": [
    {
     "name": "stdout",
     "output_type": "stream",
     "text": [
      "(512672, 7) (128168, 7) (512672,) (128168,)\n"
     ]
    }
   ],
   "source": [
    "#Train-Test-Split initialization\n",
    "X = df.drop(columns=\"sales\") # sending all columns except sales to X\n",
    "y = df['sales'] # target variable\n",
    "X_train, X_test, y_train, y_test = train_test_split(X, y, test_size=0.2, random_state=42)\n",
    "print(X_train.shape, X_test.shape, y_train.shape, y_test.shape)\n"
   ]
  },
  {
   "cell_type": "code",
   "execution_count": null,
   "metadata": {},
   "outputs": [],
   "source": []
  },
  {
   "cell_type": "code",
   "execution_count": 8,
   "metadata": {},
   "outputs": [],
   "source": [
    "models = {\n",
    "    \"Linear Regression\": LinearRegression(),\n",
    "    \"Random Forest\": RandomForestRegressor(n_estimators=30, max_depth=4, n_jobs=-1),\n",
    "    # \"KNN Regressor\": KNeighborsRegressor(n_neighbors=5),\n",
    "    # \"Random Forest\": RandomForestRegressor(n_estimators=100, random_state=42),\n",
    "    \"Gradient Boosting\": GradientBoostingRegressor(n_estimators=100, random_state=42)\n",
    "}\n",
    "\n",
    "# Step 2: Function to train and evaluate a model\n",
    "def train_and_evaluate(name, model, X_train, y_train, X_test, y_test):\n",
    "    X_train = df.drop(columns=\"sales\") # sending all columns except sales to X\n",
    "    y_train = df['sales'] # target variable\n",
    "    model.fit(X_train, y_train)\n",
    "    predictions = model.predict(X_test)\n",
    "    score = r2_score(y_test, predictions)\n",
    "    return name, score, predictions\n",
    "\n",
    "# Step 3: Run all models in parallel\n",
    "def run_models_parallel(X_train, y_train, X_test, y_test):\n",
    "    results = Parallel(n_jobs=3)(\n",
    "        delayed(train_and_evaluate)(name, model, X_train, y_train, X_test, y_test)\n",
    "        for name, model in models.items()\n",
    "    )\n",
    "    return results"
   ]
  },
  {
   "cell_type": "code",
   "execution_count": 9,
   "metadata": {},
   "outputs": [
    {
     "name": "stdout",
     "output_type": "stream",
     "text": [
      "Linear Regression R2 Score: 0.8507\n",
      "Random Forest R2 Score: 0.8425\n",
      "Gradient Boosting R2 Score: 0.8868\n"
     ]
    }
   ],
   "source": [
    "#Bagging Technique\n",
    "# Run the models and get results\n",
    "results = run_models_parallel(X_train, y_train, X_test, y_test)\n",
    "\n",
    "# Step 5: Print R2 scores\n",
    "for name, score, _ in results:\n",
    "    print(f\"{name} R2 Score: {score:.4f}\")\n"
   ]
  },
  {
   "cell_type": "code",
   "execution_count": 13,
   "metadata": {},
   "outputs": [],
   "source": [
    "# Step 6: Create bagged predictions (average of predictions)\n",
    "all_preds = np.array([preds for _, _, preds in results])\n",
    "bagged_preds = np.mean(all_preds, axis=0)"
   ]
  },
  {
   "cell_type": "code",
   "execution_count": 14,
   "metadata": {},
   "outputs": [
    {
     "name": "stdout",
     "output_type": "stream",
     "text": [
      "        Predicted_Sales_Bagged\n",
      "360263             9629.598685\n",
      "226238              -44.728461\n",
      "94660              4697.386666\n",
      "322601             4911.448799\n",
      "450235             5749.997754\n",
      "R2 Score for Bagged: 0.8694515769856913\n"
     ]
    }
   ],
   "source": [
    "# Step 7: Add bagged predictions as a new column in test data\n",
    "X_test_with_preds = X_test.copy()\n",
    "X_test_with_preds['Predicted_Sales_Bagged'] = bagged_preds\n",
    "bagged_r2 = r2_score(y_test, bagged_preds)\n",
    "\n",
    "# Optional: Show some results\n",
    "print(X_test_with_preds[['Predicted_Sales_Bagged']].head())\n",
    "print('R2 Score for Bagged:', bagged_r2)"
   ]
  },
  {
   "cell_type": "code",
   "execution_count": null,
   "metadata": {},
   "outputs": [],
   "source": []
  },
  {
   "cell_type": "markdown",
   "metadata": {},
   "source": [
    "Observations:\n",
    "\n"
   ]
  }
 ],
 "metadata": {
  "kernelspec": {
   "display_name": "Python 3",
   "language": "python",
   "name": "python3"
  },
  "language_info": {
   "codemirror_mode": {
    "name": "ipython",
    "version": 3
   },
   "file_extension": ".py",
   "mimetype": "text/x-python",
   "name": "python",
   "nbconvert_exporter": "python",
   "pygments_lexer": "ipython3",
   "version": "3.13.3"
  }
 },
 "nbformat": 4,
 "nbformat_minor": 2
}
